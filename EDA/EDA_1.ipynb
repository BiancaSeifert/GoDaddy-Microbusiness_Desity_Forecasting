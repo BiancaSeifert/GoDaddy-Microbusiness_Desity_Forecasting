{
 "cells": [
  {
   "cell_type": "code",
   "execution_count": 1,
   "id": "8e503a24-e4ea-401d-b5f2-2aa6ddf7c4b7",
   "metadata": {},
   "outputs": [],
   "source": [
    "import pandas as pd\n",
    "import numpy as np\n",
    "import seaborn as sns"
   ]
  },
  {
   "cell_type": "code",
   "execution_count": 5,
   "id": "a2eceafa-d7e6-43ba-9991-1a3f900fe902",
   "metadata": {},
   "outputs": [
    {
     "name": "stderr",
     "output_type": "stream",
     "text": [
      "C:\\Users\\jacks\\AppData\\Local\\Temp\\ipykernel_29596\\3485382805.py:3: DtypeWarning: Columns (0,1) have mixed types. Specify dtype option on import or set low_memory=False.\n",
      "  df_hc = pd.read_csv('..\\Data\\RDC_Inventory_Core_Metrics_County_History.csv')\n",
      "C:\\Users\\jacks\\AppData\\Local\\Temp\\ipykernel_29596\\3485382805.py:4: DtypeWarning: Columns (0,1) have mixed types. Specify dtype option on import or set low_memory=False.\n",
      "  df_hh = pd.read_csv('..\\Data\\RDC_Inventory_Hotness_Metrics_County_History.csv')\n"
     ]
    }
   ],
   "source": [
    "#hc - housing core\n",
    "#hh - housing hotness\n",
    "df_hc = pd.read_csv('..\\Data\\RDC_Inventory_Core_Metrics_County_History.csv')\n",
    "df_hh = pd.read_csv('..\\Data\\RDC_Inventory_Hotness_Metrics_County_History.csv')"
   ]
  },
  {
   "cell_type": "code",
   "execution_count": null,
   "id": "3ef62251-96bf-4e2f-9f93-67175b1e745b",
   "metadata": {},
   "outputs": [],
   "source": []
  }
 ],
 "metadata": {
  "kernelspec": {
   "display_name": "Python 3 (ipykernel)",
   "language": "python",
   "name": "python3"
  },
  "language_info": {
   "codemirror_mode": {
    "name": "ipython",
    "version": 3
   },
   "file_extension": ".py",
   "mimetype": "text/x-python",
   "name": "python",
   "nbconvert_exporter": "python",
   "pygments_lexer": "ipython3",
   "version": "3.10.4"
  }
 },
 "nbformat": 4,
 "nbformat_minor": 5
}
